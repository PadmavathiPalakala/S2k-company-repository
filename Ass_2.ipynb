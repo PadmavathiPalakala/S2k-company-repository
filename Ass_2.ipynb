{
 "cells": [
  {
   "cell_type": "markdown",
   "metadata": {},
   "source": [
    "# 1st problem"
   ]
  },
  {
   "cell_type": "code",
   "execution_count": 1,
   "metadata": {},
   "outputs": [],
   "source": [
    "sp=3   # Here we are assigning seasons as sp=Spring, su=Summer. f=Fall, wi=Winter.\n",
    "su=6\n",
    "f=9\n",
    "wi=12"
   ]
  },
  {
   "cell_type": "code",
   "execution_count": 17,
   "metadata": {},
   "outputs": [],
   "source": [
    "import datetime    # Importing Libraries for date_time.\n",
    "import re          # importing library for regular expressions\n",
    "def mon(month_str):    # Here we are defining the month as string.\n",
    "    try:\n",
    "        datetime_object = datetime.datetime.strptime(month_str, \"%b\")\n",
    "        month_number = datetime_object.month\n",
    "    except Exception as e:\n",
    "        datetime_object = datetime.datetime.strptime(month_str, \"%B\")\n",
    "        month_number = datetime_object.month\n",
    "    return(month_number)"
   ]
  },
  {
   "cell_type": "code",
   "execution_count": 18,
   "metadata": {},
   "outputs": [
    {
     "name": "stdout",
     "output_type": "stream",
     "text": [
      "Enter_DayMonth_format_should_be:02feb\t10march\n",
      "winter\n"
     ]
    }
   ],
   "source": [
    "user_inp=input(\"Enter_DayMonth_format_should_be:02feb\\t\")  # input should be datemonth format\n",
    "\n",
    "v1=int(''.join(e for e in user_inp if e.isdigit())) # isdigit() method returns true if all character are digits or else false.\n",
    "v2=\"\".join(re.split(\"[^a-zA-Z]*\", user_inp))   # re.split is used to spilt adjacent spaces to the user input.\n",
    "m=mon(v2)\n",
    "if (m>=3 and m<=6):\n",
    "    if (m==6 and v1>20):\n",
    "        print('summer')\n",
    "    elif (m==3 and v1<20):\n",
    "        print('winter')\n",
    "    else:\n",
    "        print('spring')\n",
    "elif (m>=6 and m<=9):\n",
    "    if (m==9 and v1>20):\n",
    "        print('fall') \n",
    "    else:\n",
    "        print('summer')\n",
    "elif (m>=9 and m<=12):\n",
    "    if (m==12 and v1>22):\n",
    "        print('winter') \n",
    "    else:\n",
    "        print('fall')\n",
    "else:\n",
    "    print('winter')"
   ]
  },
  {
   "cell_type": "markdown",
   "metadata": {},
   "source": [
    "# 2nd problem"
   ]
  },
  {
   "cell_type": "code",
   "execution_count": 1,
   "metadata": {},
   "outputs": [
    {
     "name": "stdout",
     "output_type": "stream",
     "text": [
      "a\n",
      "vowel\n",
      "0\n"
     ]
    }
   ],
   "source": [
    "v=['a','e','i','o','u']  # Assigning vowels to variable v.\n",
    "y=['y']\n",
    "while True:\n",
    "    x=input()\n",
    "    \n",
    "    if x=='0':           # for exist the code press 0\n",
    "        break\n",
    "    \n",
    "    elif x in v:\n",
    "        print('vowel')\n",
    "    elif x in y:\n",
    "        print('sometimes y is vowel sometimes consonant')\n",
    "        \n",
    "    else:\n",
    "        print('consonant')"
   ]
  },
  {
   "cell_type": "markdown",
   "metadata": {},
   "source": [
    "# 3rd problem "
   ]
  },
  {
   "cell_type": "code",
   "execution_count": 2,
   "metadata": {},
   "outputs": [
    {
     "name": "stdout",
     "output_type": "stream",
     "text": [
      "5\n",
      "positive number\n",
      "-3\n",
      "negative number\n",
      "0\n"
     ]
    }
   ],
   "source": [
    "while True:     # Here we are using while loop.\n",
    "    x=int(input())   # Enter the user input.\n",
    "    if x==0:\n",
    "        break\n",
    "    elif x>0:\n",
    "        print('positive number')\n",
    "    else:\n",
    "        print('negative number')"
   ]
  },
  {
   "cell_type": "markdown",
   "metadata": {},
   "source": [
    "# 4th problem"
   ]
  },
  {
   "cell_type": "code",
   "execution_count": 15,
   "metadata": {},
   "outputs": [],
   "source": [
    "base=2.50     # Assigning the base price to variable 'base'\n",
    "per_mile=1.25   # Assignig the per mile cost to variable per_mile.\n",
    "\n",
    "def charge(miles):\n",
    "    fare=base+per_mile*miles\n",
    "    print(fare)"
   ]
  },
  {
   "cell_type": "code",
   "execution_count": 16,
   "metadata": {},
   "outputs": [
    {
     "name": "stdout",
     "output_type": "stream",
     "text": [
      "58.75\n"
     ]
    }
   ],
   "source": [
    "charge(45)  # Enter the value of miles travelled as arguments. # Shift+Enter to excute the program."
   ]
  },
  {
   "cell_type": "markdown",
   "metadata": {},
   "source": [
    "# 5 th problem"
   ]
  },
  {
   "cell_type": "code",
   "execution_count": 11,
   "metadata": {},
   "outputs": [
    {
     "name": "stdout",
     "output_type": "stream",
     "text": [
      "[1, 21, 16, 30, 38, 5]\n"
     ]
    }
   ],
   "source": [
    "import numpy\n",
    "import random\n",
    "l=list(range(1,60,1))    # list of numbers in between 1 and 59\n",
    "lottery_num=[]\n",
    "def lottery(l):\n",
    "    for i in range(6):\n",
    "        a=random.choice(l)        #picking of random number from list\n",
    "        l.remove(a)               # removing the selected number from list,   #print(len(l))\n",
    "        lottery_num.append(a)     # appending lottery number to list\n",
    "    print(lottery_num)            # print(lottery number)\n",
    "lottery(l)        "
   ]
  },
  {
   "cell_type": "code",
   "execution_count": null,
   "metadata": {},
   "outputs": [],
   "source": []
  }
 ],
 "metadata": {
  "kernelspec": {
   "display_name": "Python 3",
   "language": "python",
   "name": "python3"
  },
  "language_info": {
   "codemirror_mode": {
    "name": "ipython",
    "version": 3
   },
   "file_extension": ".py",
   "mimetype": "text/x-python",
   "name": "python",
   "nbconvert_exporter": "python",
   "pygments_lexer": "ipython3",
   "version": "3.8.3"
  }
 },
 "nbformat": 4,
 "nbformat_minor": 4
}
