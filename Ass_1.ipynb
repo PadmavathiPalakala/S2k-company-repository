{
 "cells": [
  {
   "cell_type": "code",
   "execution_count": 1,
   "metadata": {},
   "outputs": [],
   "source": [
    "# import math and numpy package\n",
    "\n",
    "import math\n",
    "import numpy as np"
   ]
  },
  {
   "cell_type": "markdown",
   "metadata": {},
   "source": [
    " # Input and output. Write a program that does the following in order:\n",
    "- 1) Asks the user to enter a number “x”\n",
    "- 2) Asks the user to enter a number “y”\n",
    "- 3) Prints out:\n",
    "    - a. The sum of x and y\n",
    "    - b. The difference when y is subtracted from x\n",
    "    - c. The product of x and y\n",
    "    - d. The quotient when x is divided by y\n",
    "    - e. The remainder when x is divided by y\n",
    "    - f. The result of log10 x\n",
    "    - g. The result of x y"
   ]
  },
  {
   "cell_type": "code",
   "execution_count": 2,
   "metadata": {},
   "outputs": [
    {
     "name": "stdout",
     "output_type": "stream",
     "text": [
      "Enter the value of x: 3\n",
      "Enter the value of y: 4\n",
      "Sum of x and y:  7.0\n",
      "Difference when y is subtracted from x:  -1.0\n",
      "Product of x and y:  12.0\n",
      "Quotient when x divided by y:  0.0\n",
      "Remainder when x divided by t:  3.0\n",
      "Result of log10 x:  0.47712125471966244\n",
      "Result of x^y:  81.0\n"
     ]
    }
   ],
   "source": [
    "#Question 1\n",
    "#logic : function is defined to print all the requirements one after the other\n",
    "def print_stats(x, y):\n",
    "    print(\"Sum of x and y: \", x+y)\n",
    "    print(\"Difference when y is subtracted from x: \", x-y)\n",
    "    print(\"Product of x and y: \", x*y)\n",
    "    print(\"Quotient when x divided by y: \", x//y)\n",
    "    print(\"Remainder when x divided by t: \", x%y)\n",
    "    print(\"Result of log10 x: \", math.log(x, 10))\n",
    "    print(\"Result of x^y: \", np.power(x,y))\n",
    "    \n",
    "#input the value of x    \n",
    "x = float(input(\"Enter the value of x: \"))\n",
    "\n",
    "#input the value of y\n",
    "y = float(input(\"Enter the value of y: \"))\n",
    "\n",
    "#call function with values of x and y\n",
    "print_stats(x, y)"
   ]
  },
  {
   "cell_type": "markdown",
   "metadata": {},
   "source": [
    "# It’s a dog’s life\n",
    "It is commonly said that one human year is equivalent to 7 dog years. However, this simple conversion\n",
    "fails to recognize that dogs reach adulthood in approximately two years. It is better to count each of the first two human\n",
    "years as 10.5 dog years, and then count each additional human year as 4 dog years. Write a program that implements\n",
    "this conversion from human years to dog years. Ensure that your program works correctly for conversions of less than\n",
    "two human years and for conversions of two or more human years. Your program should display an appropriate error\n",
    "message if the user enters a negative numbe"
   ]
  },
  {
   "cell_type": "code",
   "execution_count": 3,
   "metadata": {},
   "outputs": [
    {
     "name": "stdout",
     "output_type": "stream",
     "text": [
      "Enter the human age(yrs): 4.5\n",
      "Dog age(yrs):  31.0\n"
     ]
    }
   ],
   "source": [
    "#Question 2\n",
    "#logic : if/else condition is defined to calculate the dog age\n",
    "\n",
    "#input the age of human\n",
    "human_age = float(input('Enter the human age(yrs): '))\n",
    "\n",
    "if human_age <=2 and human_age >= 0 :\n",
    "    print(\"Dog age(yrs): \", 10.5*human_age)\n",
    "elif human_age > 2:\n",
    "    print(\"Dog age(yrs): \", 21 + (human_age-2)*4)\n",
    "#raise exception if negative value of human age is given\n",
    "else:\n",
    "    print(\"Value Error : Enter human age in positive numbers\")"
   ]
  },
  {
   "cell_type": "markdown",
   "metadata": {},
   "source": [
    "# Calculating Body Mass Index (BMI) Using the Metric System. \n",
    "BMI is a common method used to assess body weight\n",
    "relative to height. The World Health Organization (WHO) regards a BMI of less than 18.5 as underweight and may\n",
    "indicate malnutrition, an eating disorder, or other health problems, while a BMI equal to or greater than 25 is considered\n",
    "overweight and above 30 is considered obese. With the metric system, the formula for BMI is weight in kilograms\n",
    "divided by height in meters squared. Since height is commonly measured in centimetres, an alternate calculation\n",
    "formula, dividing the weight in kilograms by the height in centimetres squared, and then multiplying the result by\n",
    "10,000:\n",
    "BMI = [weight (kg) / height (cm) / height (cm)] x 10,000\n",
    "Write a program that asks the user to enter their weight in kg and height in centimetres. Once these values have been\n",
    "read (as floating-point numbers), your program should compute and display the person’s BMI and in which WHO\n",
    "category they fall into (underweight, normal, overweight or obese). Include units in your prompt and output message."
   ]
  },
  {
   "cell_type": "code",
   "execution_count": 5,
   "metadata": {},
   "outputs": [
    {
     "name": "stdout",
     "output_type": "stream",
     "text": [
      "Enter height in cms: 189\n",
      "Enter weight in kg: 89\n",
      "BMI calculated:  24.915315920606925\n",
      "Normal\n"
     ]
    }
   ],
   "source": [
    "#Question 3\n",
    "#logic : BMI calculated and if/else condition is used to categorise BMI\n",
    "\n",
    "#input height in cms and weight in kgs\n",
    "height = float(input(\"Enter height in cms: \"))\n",
    "weight = float(input(\"Enter weight in kg: \"))\n",
    "\n",
    "#BMI is calulated using the formula\n",
    "BMI = (weight/np.square(height)) * 10000\n",
    "print(\"BMI calculated: \", BMI)\n",
    "\n",
    "#if/else condition to print category of BMI\n",
    "if BMI <= 18.5:\n",
    "    print(\"Underweight\")\n",
    "elif BMI > 18.5 and BMI < 25:\n",
    "    print(\"Normal\")\n",
    "elif BMI >= 25:\n",
    "    print(\"Overweight or Obese\")"
   ]
  },
  {
   "cell_type": "markdown",
   "metadata": {},
   "source": [
    "# The Queen's gambit"
   ]
  },
  {
   "cell_type": "code",
   "execution_count": 7,
   "metadata": {},
   "outputs": [
    {
     "name": "stdout",
     "output_type": "stream",
     "text": [
      "Insert the position on chess board: h8\n",
      "color of the square is black\n"
     ]
    }
   ],
   "source": [
    "#Question 4\n",
    "#logic : order of the alphabet gives ascii value of the corresponding alphabet.\n",
    "#all the white squares have sum of their position values is odd and black squares are even\n",
    "x = input(\"Insert the position on chess board: \")\n",
    "if (ord(x[0]) + int(x[1]))%2 == 1:\n",
    "    print('color of the square is white')\n",
    "elif (ord(x[0]) + int(x[1]))%2 == 0:\n",
    "    print('color of the square is black')"
   ]
  },
  {
   "cell_type": "markdown",
   "metadata": {},
   "source": [
    "# Fancy Output"
   ]
  },
  {
   "cell_type": "code",
   "execution_count": 8,
   "metadata": {},
   "outputs": [
    {
     "name": "stdout",
     "output_type": "stream",
     "text": [
      "i =  1  :  1  2  3  4  5  6  7  8  9 \n",
      "\n",
      "i =  2  :  2  4  6  8 10 12 14 16 18 \n",
      "\n",
      "i =  3  :  3  6  9 12 15 18 21 24 27 \n",
      "\n",
      "i =  4  :  4  8 12 16 20 24 28 32 36 \n",
      "\n",
      "i =  5  :  5 10 15 20 25 30 35 40 45 \n",
      "\n",
      "i =  6  :  6 12 18 24 30 36 42 48 54 \n",
      "\n",
      "i =  7  :  7 14 21 28 35 42 49 56 63 \n",
      "\n",
      "i =  8  :  8 16 24 32 40 48 56 64 72 \n",
      "\n",
      "i =  9  :  9 18 27 36 45 54 63 72 81 \n",
      "\n"
     ]
    }
   ],
   "source": [
    "# Question 5  \n",
    "#logic : if/else condition along with the .format function in print is used to print the fancy output\n",
    "for i in range(1,10):\n",
    "    print(\"i = \",str(i), \" : \", end=\"\")\n",
    "    for j in range(1,10):\n",
    "        print('{:>2}'.format(i*j), end=\" \")\n",
    "    print('\\n')"
   ]
  },
  {
   "cell_type": "code",
   "execution_count": null,
   "metadata": {},
   "outputs": [],
   "source": []
  }
 ],
 "metadata": {
  "kernelspec": {
   "display_name": "Python 3",
   "language": "python",
   "name": "python3"
  },
  "language_info": {
   "codemirror_mode": {
    "name": "ipython",
    "version": 3
   },
   "file_extension": ".py",
   "mimetype": "text/x-python",
   "name": "python",
   "nbconvert_exporter": "python",
   "pygments_lexer": "ipython3",
   "version": "3.8.5"
  }
 },
 "nbformat": 4,
 "nbformat_minor": 4
}
